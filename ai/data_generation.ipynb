{
 "cells": [
  {
   "cell_type": "markdown",
   "metadata": {},
   "source": [
    "# Visualisation Data Generation\n",
    "___\n",
    "\n",
    "This notebook allows to generate data to be displayed on the wep app. First, we generate data based on a night of sleep from our dataset, then we generate data based on a night of sleep acquired with an OpenBCI (William's night).\n",
    "\n",
    "## Data\n",
    "___\n",
    "\n",
    "This notebook aims to generate data that will be used by our visualisations. We generate, for a night recording and its sleep stage scoring, two files:\n",
    "- `hypnogram.csv`:\n",
    "\n",
    "    Each row contains the following tuple (timestamp:`int`, sleep stage:`int`) for each 30 seconds epoch of the night. The sleep stage equivalences are: \n",
    "    ```\n",
    "\"W\": 0,\n",
    "\"N1\": 1,\n",
    "\"N2\": 2,\n",
    "\"N3\": 3,\n",
    "\"REM\": 4\n",
    "    ```\n",
    "\n",
    "\n",
    "- `spectrograms.json`:\n",
    "\n",
    "    Dictionnary that contains all information needed to display both spectrograms for each EEG channel. All 30 seconds epochs corresponds to those found in `hypnogram.csv`.\n",
    "    \n",
    "    ```\n",
    "{\n",
    "    \"frequencies\": [float],  # 75 frequencies corresponding to the y-axis\n",
    "    \"Fpz-Cz\": [              # List for all 30 second epochs\n",
    "        [float]              # 75 power values (in log scale) associated to the frequencies\n",
    "    ],\n",
    "    \"Pz-Oz\": [               # List for all 30 second epochs\n",
    "        [float               # 75 power values (in log scale) associated to the frequencies\n",
    "    ]\n",
    "}\n",
    "    ```\n",
    "\n"
   ]
  },
  {
   "cell_type": "code",
   "execution_count": null,
   "metadata": {},
   "outputs": [],
   "source": [
    "%matplotlib inline\n",
    "\n",
    "import mne\n",
    "import pandas as pd\n",
    "import numpy as np\n",
    "import matplotlib.pyplot as plt\n",
    "from datetime import datetime, timedelta\n",
    "from time import altzone\n",
    "from pytz import timezone\n",
    "from json import dump\n",
    "import os\n",
    "\n",
    "from utils import fetch_data\n",
    "from constants import (\n",
    "    SLEEP_STAGES_VALUES,\n",
    "    DATASET_SLEEP_STAGES_VALUES,\n",
    "    N_STAGES,\n",
    "    EEG_CHANNELS,\n",
    "    EPOCH_DURATION,\n",
    "    SAMPLING_FREQ,\n",
    "    ELECTROPHYSIOLOGIST_SLEEP_STAGES,\n",
    ")"
   ]
  },
  {
   "cell_type": "markdown",
   "metadata": {},
   "source": [
    "## 1. Dataset \n",
    "___\n",
    "\n",
    "### Selected data\n",
    "___\n",
    "**Analyse my data**: Currently visualized subject in that page is subject **55**, night **1**.\n",
    "\n",
    "**Performance**:\n",
    "- Currently visualized hypnogram in Classifier vs Physionet and Electrophysiologist vs Physionet is subject **55**, night **1**. \n",
    "- Currently visualized hypnogram in Classifier vs Electrophysiologist is subject **55**, night **1**. "
   ]
  },
  {
   "cell_type": "code",
   "execution_count": null,
   "metadata": {},
   "outputs": [],
   "source": [
    "NB_EPOCHS_AWAKE_MORNING = 60\n",
    "    \n",
    "NYQUIST_FREQ = SAMPLING_FREQ/2\n",
    "MAX_TIME = EPOCH_DURATION - 1. / SAMPLING_FREQ  # tmax in included\n",
    "\n",
    "SUBJECT = [3]\n",
    "NIGHT = [2]\n",
    "FOLDER_NAME = f\"./data/subject{SUBJECT[0]}-night{NIGHT[0]}\""
   ]
  },
  {
   "cell_type": "markdown",
   "metadata": {},
   "source": [
    "### Extract data\n",
    "___"
   ]
  },
  {
   "cell_type": "code",
   "execution_count": null,
   "metadata": {},
   "outputs": [],
   "source": [
    "file_names = fetch_data(subjects=SUBJECT, recording=NIGHT)\n",
    "print(file_names)\n",
    "\n",
    "raw_data = mne.io.read_raw_edf(file_names[0][0], preload=True, stim_channel=None, verbose=False)\n",
    "annot = mne.read_annotations(file_names[0][1])\n",
    "raw_data.set_annotations(annot, emit_warning=False)\n"
   ]
  },
  {
   "cell_type": "code",
   "execution_count": null,
   "metadata": {},
   "outputs": [],
   "source": [
    "df_records = pd.read_csv(\"data/recordings-info.csv\")\n",
    "df_records.head(2)"
   ]
  },
  {
   "cell_type": "code",
   "execution_count": null,
   "metadata": {},
   "outputs": [],
   "source": [
    "info = df_records[(df_records['subject'] == SUBJECT[0]) & (df_records['night'] == NIGHT[0])]\n",
    "print(info)\n",
    "\n",
    "# Number of seconds since file began\n",
    "closed_lights_time = info['LightsOffSecond'].values[0]\n",
    "woke_up_time = closed_lights_time + info['NightDuration'].values[0] + NB_EPOCHS_AWAKE_MORNING*EPOCH_DURATION\n",
    "\n",
    "raw_data.crop(tmin=closed_lights_time, tmax=min(woke_up_time, raw_data.times[-1]))\n",
    "\n",
    "events, annot_event_id = mne.events_from_annotations(\n",
    "    raw_data,\n",
    "    event_id=DATASET_SLEEP_STAGES_VALUES,\n",
    "    chunk_duration=EPOCH_DURATION,\n",
    "    verbose=False)\n",
    "\n",
    "# Few files do not have N3 sleep (i.e. SC4202EC-Hypnogram), so we have to filter out key-value pairs that are not in the annotations.\n",
    "event_id = { \n",
    "    event_key: SLEEP_STAGES_VALUES[event_key] \n",
    "    for event_key in SLEEP_STAGES_VALUES\n",
    "    if SLEEP_STAGES_VALUES[event_key] in annot_event_id.values()\n",
    "}"
   ]
  },
  {
   "cell_type": "code",
   "execution_count": null,
   "metadata": {},
   "outputs": [],
   "source": [
    "epochs = mne.Epochs(\n",
    "    raw=raw_data,\n",
    "    events=events,\n",
    "    event_id=event_id,\n",
    "    tmin=0.,\n",
    "    tmax=MAX_TIME,\n",
    "    preload=True,\n",
    "    baseline=None,\n",
    "    verbose=False)\n",
    "\n",
    "epochs.drop_channels([\n",
    " 'EOG horizontal',\n",
    " 'Resp oro-nasal',\n",
    " 'EMG submental',\n",
    " 'Temp rectal',\n",
    " 'Event marker'])\n",
    "\n",
    "y = np.array([event[-1] for event in epochs.events])"
   ]
  },
  {
   "cell_type": "code",
   "execution_count": null,
   "metadata": {},
   "outputs": [],
   "source": [
    "print(\"Number of epochs with raw data:           \", epochs.get_data().shape)\n",
    "print(\"Number of staged epochs:                  \", y.shape)\n",
    "print(\"Time between get out of bed and bed time: \", (woke_up_time - closed_lights_time)/EPOCH_DURATION)\n",
    "print(\"Night duration with extra morning time:   \", info['NightDuration'].values[0] + NB_EPOCHS_AWAKE_MORNING*EPOCH_DURATION)\n",
    "print(\"Time of bedtime:                          \", info['LightsOff'].values[0])"
   ]
  },
  {
   "cell_type": "code",
   "execution_count": null,
   "metadata": {},
   "outputs": [],
   "source": [
    "plt.rcParams[\"figure.figsize\"] = (20,3)\n",
    "\n",
    "raw_data.copy().pick('EEG Fpz-Cz').plot(butterfly=True, duration=info['NightDuration'].values[0]);"
   ]
  },
  {
   "cell_type": "code",
   "execution_count": null,
   "metadata": {},
   "outputs": [],
   "source": [
    "raw_data.copy().pick('EEG Pz-Oz').plot(butterfly=True, duration=info['NightDuration'].values[0]);"
   ]
  },
  {
   "cell_type": "markdown",
   "metadata": {},
   "source": [
    "### Generate hypnogram\n",
    "___"
   ]
  },
  {
   "cell_type": "code",
   "execution_count": null,
   "metadata": {},
   "outputs": [],
   "source": [
    "y_with_offset = np.array([(index*EPOCH_DURATION, stage) for index, stage in enumerate(y)])\n",
    "\n",
    "plt.rcParams[\"figure.figsize\"] = (20,5)\n",
    "plt.plot([y[0]/3600 for y in y_with_offset], [y[1] for y in y_with_offset])\n",
    "plt.xlabel(\"Time since bed time (hours)\")\n",
    "plt.ylabel(\"Sleep stage\")\n",
    "plt.gca().invert_yaxis()"
   ]
  },
  {
   "cell_type": "code",
   "execution_count": null,
   "metadata": {},
   "outputs": [],
   "source": [
    "y_with_offset"
   ]
  },
  {
   "cell_type": "code",
   "execution_count": null,
   "metadata": {},
   "outputs": [],
   "source": [
    "info['LightsOff'].values[0]"
   ]
  },
  {
   "cell_type": "code",
   "execution_count": null,
   "metadata": {},
   "outputs": [],
   "source": [
    "datetime_bedtime = datetime.strptime(info['LightsOff'].values[0], \"%Y-%m-%d %H:%M:%S\").replace(tzinfo=timezone('utc'))\n",
    "print(datetime_bedtime.timestamp())\n",
    "\n",
    "y_with_timestamp = np.array([(\n",
    "    int((datetime_bedtime + timedelta(seconds=index*EPOCH_DURATION)).timestamp()),\n",
    "    int(stage))\n",
    "    for index, stage in enumerate(y)])\n",
    "y_with_timestamp"
   ]
  },
  {
   "cell_type": "code",
   "execution_count": null,
   "metadata": {},
   "outputs": [],
   "source": [
    "plt.rcParams[\"figure.figsize\"] = (20,5)\n",
    "plt.plot([y[0] for y in y_with_timestamp], [y[1] for y in y_with_timestamp])\n",
    "plt.xlabel(\"Unix timestamp\")\n",
    "plt.ylabel(\"Sleep stage\")\n",
    "plt.gca().invert_yaxis()"
   ]
  },
  {
   "cell_type": "markdown",
   "metadata": {},
   "source": [
    "#### Save hypnogram to file\n",
    "___"
   ]
  },
  {
   "cell_type": "code",
   "execution_count": null,
   "metadata": {},
   "outputs": [],
   "source": [
    "if not os.path.exists(FOLDER_NAME):\n",
    "    os.mkdir(FOLDER_NAME);\n",
    "\n",
    "np.savetxt(\n",
    "    f\"{FOLDER_NAME}/hypnogram.csv\",\n",
    "    y_with_timestamp,\n",
    "    fmt=['%10.0i', '%1.0i'],\n",
    "    delimiter=',',\n",
    "    header=\"timestamp,sleep_stage\",\n",
    "    comments='')"
   ]
  },
  {
   "cell_type": "markdown",
   "metadata": {},
   "source": [
    "### Generate spectrogram\n",
    "___"
   ]
  },
  {
   "cell_type": "code",
   "execution_count": null,
   "metadata": {},
   "outputs": [],
   "source": [
    "epochs.plot_psd(fmin=0.5, fmax=30., dB=True)"
   ]
  },
  {
   "cell_type": "code",
   "execution_count": null,
   "metadata": {},
   "outputs": [],
   "source": [
    "psds, freqs = mne.time_frequency.psd_welch(epochs, fmin=0.5, fmax=30.)\n",
    "# Convert psds into dB scale\n",
    "psds = 10 * np.log10(np.maximum(psds, np.finfo(float).tiny))\n",
    "\n",
    "psds.shape, freqs.shape"
   ]
  },
  {
   "cell_type": "code",
   "execution_count": null,
   "metadata": {},
   "outputs": [],
   "source": [
    "# Plot histogram\n",
    "plt.rcParams[\"figure.figsize\"] = (20,1.5)\n",
    "plt.plot([y[0] for y in y_with_offset], [y[1] for y in y_with_offset])\n",
    "plt.xlabel(\"Time since bed time (seconds)\")\n",
    "plt.ylabel(\"Sleep stage\")\n",
    "plt.gca().invert_yaxis()\n",
    "plt.show()\n",
    "\n",
    "# Plot spectrogram of Fpz-Cz\n",
    "plt.rcParams[\"figure.figsize\"] = (20,5)\n",
    "plt.pcolormesh(\n",
    "    [y[0] for y in y_with_offset],\n",
    "    freqs,\n",
    "    psds[:,0,:].T)\n",
    "plt.ylim([0,30])\n",
    "plt.xlabel('Time (s)'), plt.ylabel('Frequency (Hz)'),  plt.title('Spectrogram for Fpz-Cz')\n",
    "plt.show()\n",
    "\n",
    "# Plot spectrogram of Pz-Oz\n",
    "plt.pcolormesh(\n",
    "    [y[0] for y in y_with_offset],\n",
    "    freqs,\n",
    "    psds[:,1,:].T)\n",
    "plt.ylim([0,30])\n",
    "plt.xlabel('Time (s)'), plt.ylabel('Frequency (Hz)'),  plt.title('Spectrogram for Pz-Oz')\n",
    "plt.show()"
   ]
  },
  {
   "cell_type": "markdown",
   "metadata": {},
   "source": [
    "#### Save spectrogram to file\n",
    "___"
   ]
  },
  {
   "cell_type": "code",
   "execution_count": null,
   "metadata": {},
   "outputs": [],
   "source": [
    "spectrograms = {\n",
    "    'Frequencies': freqs.tolist(),\n",
    "    'Fpz-Cz': psds[:,0,:].tolist(),\n",
    "    'Pz-Oz': psds[:,1,:].tolist()\n",
    "}\n",
    "\n",
    "with open(f\"{FOLDER_NAME}/spectrograms.json\", 'w') as json_file:\n",
    "    dump(spectrograms, json_file)"
   ]
  },
  {
   "cell_type": "markdown",
   "metadata": {},
   "source": [
    "## 2. Data from OpenBCI \n",
    "___\n",
    "\n",
    "### Selected data\n",
    "___\n",
    "\n",
    "The data used will be of William's night."
   ]
  },
  {
   "cell_type": "code",
   "execution_count": null,
   "metadata": {},
   "outputs": [],
   "source": [
    "FOLDER_NAME = \"data/williamharvey-night1\"\n",
    "\n",
    "psg_file_name = f\"{FOLDER_NAME}/william-recording.edf\"\n",
    "hypno_file_name = f\"{FOLDER_NAME}/william-hypnogram.edf\"\n",
    "hypno_predicted_file_name = f\"{FOLDER_NAME}/william-hypnogram-predicted.npy\"\n",
    "journal_file_name = f\"{FOLDER_NAME}/william-journal.csv\"\n",
    "\n",
    "openbci_raw_signal = mne.io.read_raw_edf(psg_file_name, preload=True, stim_channel=None, verbose=False)\n",
    "openbci_hypnogram_labelled = mne.read_annotations(hypno_file_name)\n",
    "openbci_hypnogram_predicted = np.loadtxt(hypno_predicted_file_name)\n",
    "openbci_journal_df = pd.read_csv(journal_file_name)"
   ]
  },
  {
   "cell_type": "code",
   "execution_count": null,
   "metadata": {},
   "outputs": [],
   "source": [
    "openbci_journal_df.iloc[:, :] = openbci_journal_df.iloc[:, :].apply(pd.to_datetime)\n",
    "\n",
    "openbci_journal_df, openbci_journal_df.dtypes"
   ]
  },
  {
   "cell_type": "code",
   "execution_count": null,
   "metadata": {},
   "outputs": [],
   "source": [
    "# Number of seconds since file began\n",
    "closed_lights_seconds = (openbci_journal_df['bed_time'] - openbci_journal_df['start_time']).dt.seconds\n",
    "wake_up_seconds = (openbci_journal_df['wake_up_time'] - openbci_journal_df['start_time']).dt.seconds\n",
    "\n",
    "openbci_raw_signal.resample(SAMPLING_FREQ)\n",
    "openbci_raw_signal.filter(l_freq=0.5, h_freq=None)\n",
    "\n",
    "openbci_raw_signal.set_annotations(\n",
    "    openbci_hypnogram_labelled,\n",
    "    emit_warning=False\n",
    ")\n",
    "openbci_raw_signal.crop(\n",
    "    tmin=closed_lights_seconds[0],\n",
    "    tmax=min(wake_up_seconds[0], openbci_raw_signal.times[-1])\n",
    ")\n",
    "\n",
    "events, annot_event_id = mne.events_from_annotations(\n",
    "    openbci_raw_signal,\n",
    "    event_id=ELECTROPHYSIOLOGIST_SLEEP_STAGES,\n",
    "    chunk_duration=EPOCH_DURATION,\n",
    "    verbose=False)\n",
    "\n",
    "# Few files do not have N3 sleep (i.e. SC4202EC-Hypnogram), so we have to filter out key-value pairs that are not in the annotations.\n",
    "event_id = { \n",
    "    event_key: SLEEP_STAGES_VALUES[event_key] \n",
    "    for event_key in SLEEP_STAGES_VALUES\n",
    "    if SLEEP_STAGES_VALUES[event_key] in annot_event_id.values()\n",
    "}\n",
    "\n",
    "epochs = mne.Epochs(\n",
    "    raw=openbci_raw_signal,\n",
    "    events=events,\n",
    "    event_id=event_id,\n",
    "    tmin=0.,\n",
    "    tmax=MAX_TIME,\n",
    "    preload=True,\n",
    "    baseline=None,\n",
    "    verbose=False)\n",
    "\n",
    "epochs.drop_channels([\n",
    " 'EOG1-EOG2',\n",
    " 'EMG1-EMG2',\n",
    "])\n",
    "\n",
    "y = np.array([event[-1] for event in epochs.events])\n",
    "\n",
    "epochs.info"
   ]
  },
  {
   "cell_type": "code",
   "execution_count": null,
   "metadata": {},
   "outputs": [],
   "source": [
    "# crop predictions\n",
    "\n",
    "openbci_hypnogram_predicted = openbci_hypnogram_predicted[\n",
    "    int(closed_lights_seconds / EPOCH_DURATION):\n",
    "    int(wake_up_seconds / EPOCH_DURATION)\n",
    "]"
   ]
  },
  {
   "cell_type": "code",
   "execution_count": null,
   "metadata": {},
   "outputs": [],
   "source": [
    "print(\"Number of epochs with raw data:           \", epochs.get_data().shape)\n",
    "print(\"Number of staged epochs (labelled):       \", y.shape)\n",
    "print(\"Number of staged epochs (predicted):      \", openbci_hypnogram_predicted.shape)\n",
    "\n",
    "print(\"Time between get out of bed and bed time: \", (openbci_journal_df['wake_up_time'] - openbci_journal_df['bed_time'])[0])\n",
    "print(\"Total effective sleep:                    \", timedelta(seconds=y[y != SLEEP_STAGES_VALUES['W']].shape[0] * EPOCH_DURATION))"
   ]
  },
  {
   "cell_type": "markdown",
   "metadata": {},
   "source": [
    "### Generate hypnogram - Labelled\n",
    "___"
   ]
  },
  {
   "cell_type": "code",
   "execution_count": null,
   "metadata": {},
   "outputs": [],
   "source": [
    "y_with_timestamp = np.array([(\n",
    "        int((openbci_journal_df.loc[0,'bed_time'] + timedelta(seconds=index*EPOCH_DURATION)).timestamp()),\n",
    "        str(list(SLEEP_STAGES_VALUES.keys())[list(SLEEP_STAGES_VALUES.values()).index(stage)]) # gets the label for the stage index\n",
    "    ) for index, stage in enumerate(y)])\n",
    "y_with_timestamp"
   ]
  },
  {
   "cell_type": "code",
   "execution_count": null,
   "metadata": {},
   "outputs": [],
   "source": [
    "plt.rcParams[\"figure.figsize\"] = (20,5)\n",
    "plt.plot([y[0] for y in y_with_timestamp], [SLEEP_STAGES_VALUES[y[1]] for y in y_with_timestamp])\n",
    "plt.xlabel(\"Unix timestamp\")\n",
    "plt.ylabel(\"Sleep stage\")\n",
    "plt.gca().invert_yaxis()"
   ]
  },
  {
   "cell_type": "markdown",
   "metadata": {},
   "source": [
    "#### Save hypnogram to file\n",
    "___"
   ]
  },
  {
   "cell_type": "code",
   "execution_count": null,
   "metadata": {},
   "outputs": [],
   "source": [
    "if not os.path.exists(FOLDER_NAME):\n",
    "    os.mkdir(FOLDER_NAME);\n",
    "\n",
    "np.savetxt(\n",
    "    f\"{FOLDER_NAME}/hypnogram-labelled.csv\",\n",
    "    y_with_timestamp,\n",
    "    fmt='%s',\n",
    "    delimiter=',',\n",
    "    header=\"timestamp,sleepStage\",\n",
    "    comments='')"
   ]
  },
  {
   "cell_type": "markdown",
   "metadata": {},
   "source": [
    "### Generate hypnogram - Predicted\n",
    "___"
   ]
  },
  {
   "cell_type": "code",
   "execution_count": null,
   "metadata": {},
   "outputs": [],
   "source": [
    "y_with_timestamp = np.array([(\n",
    "        int((openbci_journal_df.loc[0,'bed_time'] + timedelta(seconds=index*EPOCH_DURATION)).timestamp()),\n",
    "        str(list(SLEEP_STAGES_VALUES.keys())[list(SLEEP_STAGES_VALUES.values()).index(stage)]) # gets the label for the stage index\n",
    "    ) for index, stage in enumerate(openbci_hypnogram_predicted)])\n",
    "y_with_timestamp"
   ]
  },
  {
   "cell_type": "code",
   "execution_count": null,
   "metadata": {},
   "outputs": [],
   "source": [
    "plt.rcParams[\"figure.figsize\"] = (20,5)\n",
    "plt.plot([y[0] for y in y_with_timestamp], [SLEEP_STAGES_VALUES[y[1]] for y in y_with_timestamp])\n",
    "plt.xlabel(\"Unix timestamp\")\n",
    "plt.ylabel(\"Sleep stage\")\n",
    "plt.gca().invert_yaxis()"
   ]
  },
  {
   "cell_type": "markdown",
   "metadata": {},
   "source": [
    "#### Save hypnogram to file\n",
    "___"
   ]
  },
  {
   "cell_type": "code",
   "execution_count": null,
   "metadata": {},
   "outputs": [],
   "source": [
    "if not os.path.exists(FOLDER_NAME):\n",
    "    os.mkdir(FOLDER_NAME);\n",
    "\n",
    "np.savetxt(\n",
    "    f\"{FOLDER_NAME}/hypnogram-predicted.csv\",\n",
    "    y_with_timestamp,\n",
    "    fmt='%s',\n",
    "    delimiter=',',\n",
    "    header=\"timestamp,sleepStage\",\n",
    "    comments='')"
   ]
  },
  {
   "cell_type": "markdown",
   "metadata": {},
   "source": [
    "### Generate spectrogram\n",
    "____"
   ]
  },
  {
   "cell_type": "code",
   "execution_count": null,
   "metadata": {},
   "outputs": [],
   "source": [
    "epochs.plot_psd(fmin=0.5, fmax=30., dB=True)"
   ]
  },
  {
   "cell_type": "code",
   "execution_count": null,
   "metadata": {},
   "outputs": [],
   "source": [
    "psds, freqs = mne.time_frequency.psd_welch(epochs, fmin=0.5, fmax=30.)\n",
    "# Convert psds into dB scale\n",
    "psds = 10 * np.log10(np.maximum(psds, np.finfo(float).tiny))\n",
    "\n",
    "psds.shape, freqs.shape"
   ]
  },
  {
   "cell_type": "code",
   "execution_count": null,
   "metadata": {},
   "outputs": [],
   "source": [
    "# Plot histogram\n",
    "plt.rcParams[\"figure.figsize\"] = (20,1.5)\n",
    "plt.plot([y[0] for y in y_with_timestamp], [y[1] for y in y_with_timestamp])\n",
    "plt.xlabel(\"Time since bed time (seconds)\")\n",
    "plt.ylabel(\"Sleep stage\")\n",
    "plt.gca().invert_yaxis()\n",
    "plt.show()\n",
    "\n",
    "# Plot spectrogram of Fpz-Cz\n",
    "plt.rcParams[\"figure.figsize\"] = (20,5)\n",
    "plt.pcolormesh(\n",
    "    [y[0] for y in y_with_timestamp],\n",
    "    freqs,\n",
    "    psds[:,0,:].T)\n",
    "plt.ylim([0,30])\n",
    "plt.xlabel('Time (s)'), plt.ylabel('Frequency (Hz)'),  plt.title('Spectrogram for Fpz-Cz')\n",
    "plt.show()\n",
    "\n",
    "# Plot spectrogram of Pz-Oz\n",
    "plt.pcolormesh(\n",
    "    [y[0] for y in y_with_timestamp],\n",
    "    freqs,\n",
    "    psds[:,1,:].T)\n",
    "plt.ylim([0,30])\n",
    "plt.xlabel('Time (s)'), plt.ylabel('Frequency (Hz)'),  plt.title('Spectrogram for Pz-Oz')\n",
    "plt.show()"
   ]
  },
  {
   "cell_type": "markdown",
   "metadata": {},
   "source": [
    "#### Save spectrogram to file\n",
    "___"
   ]
  },
  {
   "cell_type": "code",
   "execution_count": null,
   "metadata": {},
   "outputs": [],
   "source": [
    "spectrograms = {\n",
    "    'frequencies': freqs.tolist(),\n",
    "    'fpz-cz': psds[:,0,:].tolist(),\n",
    "    'pz-oz': psds[:,1,:].tolist()\n",
    "}\n",
    "\n",
    "with open(f\"{FOLDER_NAME}/spectrograms.json\", 'w') as json_file:\n",
    "    dump(spectrograms, json_file)"
   ]
  },
  {
   "cell_type": "code",
   "execution_count": null,
   "metadata": {},
   "outputs": [],
   "source": []
  }
 ],
 "metadata": {
  "kernelspec": {
   "display_name": "Python 3",
   "language": "python",
   "name": "python3"
  },
  "language_info": {
   "codemirror_mode": {
    "name": "ipython",
    "version": 3
   },
   "file_extension": ".py",
   "mimetype": "text/x-python",
   "name": "python",
   "nbconvert_exporter": "python",
   "pygments_lexer": "ipython3",
   "version": "3.6.8"
  }
 },
 "nbformat": 4,
 "nbformat_minor": 4
}
