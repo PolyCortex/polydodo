{
 "cells": [
  {
   "cell_type": "markdown",
   "metadata": {},
   "source": [
    "# Prediction on anonymous by our classifier\n",
    "___\n",
    "\n",
    "This notebook aims to try on our dataset, without including the anonymous subject, and then to see what is the classification accuracy.\n",
    "\n",
    "The recording that was randomly selected is `SC4441EC-Hypnogram.edf`. It corresponds to an 74 year old woman, and the subject index is then 44."
   ]
  },
  {
   "cell_type": "code",
   "execution_count": 39,
   "metadata": {},
   "outputs": [],
   "source": [
    "%matplotlib inline\n",
    "\n",
    "import numpy as np\n",
    "import json\n",
    "\n",
    "from datetime import datetime, timedelta\n",
    "\n",
    "from sklearn.pipeline import Pipeline\n",
    "from sklearn.compose import ColumnTransformer\n",
    "from sklearn.preprocessing import StandardScaler\n",
    "from sklearn.neighbors import KNeighborsClassifier\n",
    "from sklearn.discriminant_analysis import LinearDiscriminantAnalysis\n",
    "from sklearn.ensemble import (RandomForestClassifier,\n",
    "                              VotingClassifier)\n",
    "from sklearn.metrics import (confusion_matrix,\n",
    "                             classification_report,\n",
    "                             cohen_kappa_score)\n",
    "from hmmlearn.hmm import MultinomialHMM\n",
    "\n",
    "from models.model_utils import (train_test_split_according_to_age)\n",
    "from constants import (SLEEP_STAGES_VALUES, EPOCH_DURATION,N_STAGES)\n",
    "from models.model_utils import (print_hypnogram)"
   ]
  },
  {
   "cell_type": "markdown",
   "metadata": {},
   "source": [
    "## Generate trained pipeline\n",
    "____"
   ]
  },
  {
   "cell_type": "code",
   "execution_count": 28,
   "metadata": {},
   "outputs": [],
   "source": [
    "SUBJECT_IDX = 0 \n",
    "NIGHT_IDX = 1\n",
    "USE_CONTINUOUS_AGE = False\n",
    "DOWNSIZE_SET = False\n",
    "TEST_SET_SUBJECTS = [44]\n",
    "MODELS_DIR = \"trained_model\"\n",
    "\n",
    "NIGHT = [1]"
   ]
  },
  {
   "cell_type": "code",
   "execution_count": 24,
   "metadata": {},
   "outputs": [
    {
     "name": "stdout",
     "output_type": "stream",
     "text": [
      "(168954, 50)\n",
      "(168954,)\n",
      "Number of subjects:  78\n",
      "Number of nights:  153\n",
      "Subjects available:  [ 0.  1.  2.  3.  4.  5.  6.  7.  8.  9. 10. 11. 12. 13. 14. 15. 16. 17.\n",
      " 18. 19. 20. 21. 22. 23. 24. 25. 26. 27. 28. 29. 30. 31. 32. 33. 34. 35.\n",
      " 36. 37. 38. 40. 41. 42. 43. 44. 45. 46. 47. 48. 49. 50. 51. 52. 53. 54.\n",
      " 55. 56. 57. 58. 59. 60. 61. 62. 63. 64. 65. 66. 67. 70. 71. 72. 73. 74.\n",
      " 75. 76. 77. 80. 81. 82.]\n",
      "Selected subjects for the test set are:  [44]\n",
      "(2223, 50) (166731, 50) (2223,) (166731,)\n"
     ]
    }
   ],
   "source": [
    "def load_features():\n",
    "    if USE_CONTINUOUS_AGE:\n",
    "        X_file_name = \"data/x_features-age-continuous.npy\"\n",
    "        y_file_name = \"data/y_observations-age-continuous.npy\"\n",
    "    else:\n",
    "        X_file_name = \"data/x_features.npy\"\n",
    "        y_file_name = \"data/y_observations.npy\"\n",
    "\n",
    "    X_init = np.load(X_file_name, allow_pickle=True)\n",
    "    y_init = np.load(y_file_name, allow_pickle=True)\n",
    "\n",
    "    X_init = np.vstack(X_init)\n",
    "    y_init = np.hstack(y_init)\n",
    "\n",
    "    print(X_init.shape)\n",
    "    print(y_init.shape)\n",
    "    print(\"Number of subjects: \", np.unique(X_init[:,SUBJECT_IDX]).shape[0]) # Some subject indexes are skipped, thus total number is below 83 (as we can see in https://physionet.org/content/sleep-edfx/1.0.0/)\n",
    "    print(\"Number of nights: \", len(np.unique([f\"{int(x[0])}-{int(x[1])}\" for x in X_init[:,SUBJECT_IDX:NIGHT_IDX+1]])))\n",
    "    print(\"Subjects available: \", np.unique(X_init[:,SUBJECT_IDX]))\n",
    "    \n",
    "    return X_init, y_init\n",
    "\n",
    "def split_data(X_init, y_init):\n",
    "    X_test, X_train_valid, y_test, y_train_valid = train_test_split_according_to_age(\n",
    "        X_init,\n",
    "        y_init,\n",
    "        use_continuous_age=USE_CONTINUOUS_AGE,\n",
    "        subjects_test=TEST_SET_SUBJECTS)\n",
    "    \n",
    "    print(X_test.shape, X_train_valid.shape, y_test.shape, y_train_valid.shape)\n",
    "    \n",
    "    return X_test, X_train_valid, y_test, y_train_valid\n",
    "\n",
    "X_init, y_init = load_features()\n",
    "X_test, X_train_valid, y_test, y_train_valid = split_data(X_init, y_init)"
   ]
  },
  {
   "cell_type": "code",
   "execution_count": 29,
   "metadata": {},
   "outputs": [],
   "source": [
    "hmm_model = MultinomialHMM(n_components=N_STAGES)\n",
    "\n",
    "\n",
    "hmm_model.emissionprob_ = np.load(f\"{MODELS_DIR}/HMM_emissionprob.npy\", allow_pickle=True)\n",
    "hmm_model.startprob_ = np.load(f\"{MODELS_DIR}/HMM_startprob.npy\", allow_pickle=True)\n",
    "hmm_model.transmat_ = np.load(f\"{MODELS_DIR}/HMM_transmat.npy\", allow_pickle=True)"
   ]
  },
  {
   "cell_type": "code",
   "execution_count": 42,
   "metadata": {},
   "outputs": [
    {
     "data": {
      "text/plain": [
       "Pipeline(memory=None,\n",
       "         steps=[('scaling',\n",
       "                 ColumnTransformer(n_jobs=None, remainder='drop',\n",
       "                                   sparse_threshold=0.3,\n",
       "                                   transformer_weights=None,\n",
       "                                   transformers=[('pass-through-categorical',\n",
       "                                                  'passthrough', [0, 1]),\n",
       "                                                 ('scaling-continuous',\n",
       "                                                  StandardScaler(copy=False,\n",
       "                                                                 with_mean=True,\n",
       "                                                                 with_std=True),\n",
       "                                                  [2, 3, 4, 5, 6, 7, 8, 9, 10,\n",
       "                                                   11, 12, 13, 14, 15, 16, 17,\n",
       "                                                   18, 19, 20, 21, 22, 23, 24,\n",
       "                                                   25, 26, 27, 28, 29,...\n",
       "                                                                LinearDiscriminantAnalysis(n_components=None,\n",
       "                                                                                           priors=None,\n",
       "                                                                                           shrinkage=None,\n",
       "                                                                                           solver='svd',\n",
       "                                                                                           store_covariance=False,\n",
       "                                                                                           tol=0.0001)),\n",
       "                                                               ('knn_clf',\n",
       "                                                                KNeighborsClassifier(algorithm='auto',\n",
       "                                                                                     leaf_size=100,\n",
       "                                                                                     metric='chebyshev',\n",
       "                                                                                     metric_params=None,\n",
       "                                                                                     n_jobs=-1,\n",
       "                                                                                     n_neighbors=300,\n",
       "                                                                                     p=2,\n",
       "                                                                                     weights='uniform'))],\n",
       "                                                        verbose=False))],\n",
       "                                  flatten_transform=False, n_jobs=-1,\n",
       "                                  voting='soft',\n",
       "                                  weights=array([0.83756205, 0.16243795])))],\n",
       "         verbose=False)"
      ]
     },
     "execution_count": 42,
     "metadata": {},
     "output_type": "execute_result"
    }
   ],
   "source": [
    "def get_voting_classifier_pipeline():\n",
    "    NB_CATEGORICAL_FEATURES = 2\n",
    "    NB_FEATURES = 48\n",
    "\n",
    "    estimator_list = [\n",
    "        ('random_forest', RandomForestClassifier(\n",
    "            random_state=42, # enables deterministic behaviour\n",
    "            n_jobs=-1\n",
    "        )),\n",
    "        ('knn', Pipeline([\n",
    "            ('knn_dim_red', LinearDiscriminantAnalysis()),\n",
    "            ('knn_clf', KNeighborsClassifier(\n",
    "                weights='uniform',\n",
    "                n_neighbors=300,\n",
    "                leaf_size=100,\n",
    "                metric='chebyshev',\n",
    "                n_jobs=-1\n",
    "            ))\n",
    "        ])),\n",
    "    ]\n",
    "        \n",
    "    return Pipeline([\n",
    "        ('scaling', ColumnTransformer([\n",
    "            ('pass-through-categorical', 'passthrough', list(range(NB_CATEGORICAL_FEATURES))),\n",
    "            ('scaling-continuous', StandardScaler(copy=False), list(range(NB_CATEGORICAL_FEATURES,NB_FEATURES)))\n",
    "        ])),\n",
    "        ('voting_clf', VotingClassifier(\n",
    "            estimators=estimator_list,\n",
    "            voting='soft',\n",
    "            weights=np.array([0.83756205, 0.16243795]),\n",
    "            flatten_transform=False,\n",
    "            n_jobs=-1,\n",
    "        ))\n",
    "    ])\n",
    "\n",
    "vtg_testing_pipeline = get_voting_classifier_pipeline()\n",
    "vtg_testing_pipeline.fit(X_train_valid[:, 2:], y_train_valid)"
   ]
  },
  {
   "cell_type": "code",
   "execution_count": 43,
   "metadata": {},
   "outputs": [
    {
     "name": "stdout",
     "output_type": "stream",
     "text": [
      "[[394  11   2   0   2]\n",
      " [ 37  66  52   0  28]\n",
      " [  5  24 321   1  54]\n",
      " [  0   0  52  39   0]\n",
      " [  0   0   0   0 100]]\n",
      "              precision    recall  f1-score   support\n",
      "\n",
      "           W       0.90      0.96      0.93       409\n",
      "          N1       0.65      0.36      0.46       183\n",
      "          N2       0.75      0.79      0.77       405\n",
      "          N3       0.97      0.43      0.60        91\n",
      "         REM       0.54      1.00      0.70       100\n",
      "\n",
      "    accuracy                           0.77      1188\n",
      "   macro avg       0.77      0.71      0.69      1188\n",
      "weighted avg       0.79      0.77      0.76      1188\n",
      "\n",
      "Agreement score (Cohen Kappa):  0.687724728854155\n"
     ]
    }
   ],
   "source": [
    "X_test_selected_night = X_test[X_test[:,1] == NIGHT[0]]\n",
    "y_test_selected_night = y_test[X_test[:,1] == NIGHT[0]]\n",
    "\n",
    "voting_y_test_pred = vtg_testing_pipeline.predict(X_test_selected_night[:,2:])\n",
    "voting_y_test_pred = hmm_model.predict(voting_y_test_pred.reshape(-1, 1))\n",
    "\n",
    "print(confusion_matrix(y_test_selected_night, voting_y_test_pred))\n",
    "print(classification_report(y_test_selected_night, voting_y_test_pred, target_names=SLEEP_STAGES_VALUES.keys()))\n",
    "print(\"Agreement score (Cohen Kappa): \", cohen_kappa_score(y_test_selected_night, voting_y_test_pred))"
   ]
  },
  {
   "cell_type": "markdown",
   "metadata": {},
   "source": [
    "## Generate RF trained pipeline\n",
    "___"
   ]
  },
  {
   "cell_type": "code",
   "execution_count": 38,
   "metadata": {},
   "outputs": [
    {
     "name": "stdout",
     "output_type": "stream",
     "text": [
      "CPU times: user 3min 51s, sys: 2.08 s, total: 3min 53s\n",
      "Wall time: 1min 25s\n"
     ]
    }
   ],
   "source": [
    "%%time\n",
    "\n",
    "def get_random_forest_model():\n",
    "    NB_CATEGORICAL_FEATURES = 2\n",
    "    NB_FEATURES = 48\n",
    "    \n",
    "    return Pipeline([\n",
    "        ('scaling', ColumnTransformer([\n",
    "            ('pass-through-categorical', 'passthrough', list(range(NB_CATEGORICAL_FEATURES))),\n",
    "            ('scaling-continuous', StandardScaler(copy=False), list(range(NB_CATEGORICAL_FEATURES,NB_FEATURES)))\n",
    "        ])),\n",
    "        ('classifier', RandomForestClassifier(\n",
    "            n_estimators=100,\n",
    "            max_depth=24,\n",
    "            random_state=42, # enables deterministic behaviour\n",
    "            n_jobs=-1\n",
    "        ))\n",
    "    ])\n",
    "\n",
    "rf_testing_pipeline = get_random_forest_model()\n",
    "rf_testing_pipeline.fit(X_train_valid[:, 2:], y_train_valid)"
   ]
  },
  {
   "cell_type": "code",
   "execution_count": 44,
   "metadata": {},
   "outputs": [
    {
     "name": "stdout",
     "output_type": "stream",
     "text": [
      "[[398   8   1   0   2]\n",
      " [ 48  64  45   0  26]\n",
      " [  4  26 313   0  62]\n",
      " [  0   1  59  31   0]\n",
      " [  0   0   0   0 100]]\n",
      "              precision    recall  f1-score   support\n",
      "\n",
      "           W       0.88      0.97      0.93       409\n",
      "          N1       0.65      0.35      0.45       183\n",
      "          N2       0.75      0.77      0.76       405\n",
      "          N3       1.00      0.34      0.51        91\n",
      "         REM       0.53      1.00      0.69       100\n",
      "\n",
      "    accuracy                           0.76      1188\n",
      "   macro avg       0.76      0.69      0.67      1188\n",
      "weighted avg       0.78      0.76      0.75      1188\n",
      "\n",
      "Agreement score (Cohen Kappa):  0.6709289967448082\n"
     ]
    }
   ],
   "source": [
    "X_test_selected_night = X_test[X_test[:,1] == NIGHT[0]]\n",
    "y_test_selected_night = y_test[X_test[:,1] == NIGHT[0]]\n",
    "\n",
    "rf_y_test_pred = rf_testing_pipeline.predict(X_test_selected_night[:,2:])\n",
    "rf_y_test_pred = hmm_model.predict(rf_y_test_pred.reshape(-1, 1))\n",
    "\n",
    "print(confusion_matrix(y_test_selected_night, rf_y_test_pred))\n",
    "print(classification_report(y_test_selected_night, rf_y_test_pred, target_names=SLEEP_STAGES_VALUES.keys()))\n",
    "print(\"Agreement score (Cohen Kappa): \", cohen_kappa_score(y_test_selected_night, rf_y_test_pred))"
   ]
  },
  {
   "cell_type": "code",
   "execution_count": null,
   "metadata": {},
   "outputs": [],
   "source": []
  },
  {
   "cell_type": "markdown",
   "metadata": {},
   "source": [
    "## Saving to display in performance page\n",
    "___\n",
    "\n",
    "She went to bed at 1989-07-04 00:18:00, so in UTC its 615514680."
   ]
  },
  {
   "cell_type": "code",
   "execution_count": 48,
   "metadata": {},
   "outputs": [],
   "source": [
    "rf_hypnogram = {\n",
    "    'timestamps': [\n",
    "        int((datetime.fromtimestamp(615514680) + timedelta(seconds=index*EPOCH_DURATION)).timestamp())\n",
    "        for index, stage in enumerate(rf_y_test_pred)\n",
    "    ],\n",
    "    'stages': [\n",
    "        str(list(SLEEP_STAGES_VALUES.keys())[list(SLEEP_STAGES_VALUES.values()).index(stage)])\n",
    "        for index, stage in enumerate(rf_y_test_pred)\n",
    "    ]\n",
    "}\n",
    "\n",
    "with open('data/predicted_woman78yo_sleepedf.json', 'w') as fp:\n",
    "    json.dump(dict(epochs=rf_hypnogram), fp)"
   ]
  },
  {
   "cell_type": "code",
   "execution_count": 20,
   "metadata": {},
   "outputs": [],
   "source": [
    "voting_hypnogram = {\n",
    "    'timestamps': [int((datetime.fromtimestamp(615514680) + timedelta(seconds=index*EPOCH_DURATION)).timestamp()) for index, stage in enumerate(voting_y_test_pred)],\n",
    "    'stages': [str(list(SLEEP_STAGES_VALUES.keys())[list(SLEEP_STAGES_VALUES.values()).index(stage)]) for index, stage in enumerate(voting_y_test_pred)]\n",
    "}\n",
    "\n"
   ]
  },
  {
   "cell_type": "code",
   "execution_count": null,
   "metadata": {},
   "outputs": [],
   "source": []
  }
 ],
 "metadata": {
  "kernelspec": {
   "display_name": "Python 3",
   "language": "python",
   "name": "python3"
  },
  "language_info": {
   "codemirror_mode": {
    "name": "ipython",
    "version": 3
   },
   "file_extension": ".py",
   "mimetype": "text/x-python",
   "name": "python",
   "nbconvert_exporter": "python",
   "pygments_lexer": "ipython3",
   "version": "3.6.8"
  }
 },
 "nbformat": 4,
 "nbformat_minor": 4
}
