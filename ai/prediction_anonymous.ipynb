{
 "cells": [
  {
   "cell_type": "markdown",
   "metadata": {},
   "source": [
    "# Prediction anonymous\n",
    "___\n",
    "\n",
    "This notebook aims to present and show results from two manually scored hypnograms on the same night's recording. One hypnogram is from our dataset, and the other hypnogram was manually scored by an electrophysiologist.\n",
    "\n",
    "As stated in [this paper](https://www.ncbi.nlm.nih.gov/pmc/articles/PMC2635577/#__ffn_sectitle), significant differences may lay between these two hypnograms, because both scored didn't followed the same scoring manual. Our dataset being made in the early 90s, scorers followed R&K manual, while scorers now generally follow AASM manual.\n",
    "\n",
    "The recording that was randomly selected is `SC4441EC-Hypnogram.edf`. It corresponds to an 74 year old woman.\n",
    "\n",
    "Source: Moser, Doris, Peter Anderer, Georg Gruber, Silvia Parapatics, Erna Loretz, Marion Boeck, Gerhard Kloesch, et al. « Sleep Classification According to AASM and Rechtschaffen & Kales: Effects on Sleep Scoring Parameters ». Sleep 32, nᵒ 2 (1 février 2009): 139‑49.\n"
   ]
  },
  {
   "cell_type": "code",
   "execution_count": 1,
   "metadata": {},
   "outputs": [],
   "source": [
    "%load_ext autoreload\n",
    "%autoreload 2"
   ]
  },
  {
   "cell_type": "code",
   "execution_count": 2,
   "metadata": {},
   "outputs": [],
   "source": [
    "%matplotlib inline\n",
    "\n",
    "import mne\n",
    "import pandas as pd\n",
    "import numpy as np\n",
    "import matplotlib.pyplot as plt\n",
    "from datetime import datetime, timedelta\n",
    "from sklearn.metrics import (confusion_matrix,\n",
    "                             classification_report,\n",
    "                             cohen_kappa_score)\n",
    "\n",
    "from utils import fetch_data\n",
    "from constants import (SLEEP_STAGES_VALUES,\n",
    "                       DATASET_SLEEP_STAGES_VALUES,\n",
    "                       ELECTROPHYSIOLOGIST_SLEEP_STAGES,\n",
    "                       N_STAGES,\n",
    "                       EEG_CHANNELS,\n",
    "                       EPOCH_DURATION,\n",
    "                       SAMPLING_FREQ)\n",
    "from models.model_utils import (print_hypnogram)"
   ]
  },
  {
   "cell_type": "code",
   "execution_count": 3,
   "metadata": {},
   "outputs": [],
   "source": [
    "NB_EPOCHS_AWAKE_MORNING = 60\n",
    "    \n",
    "NYQUIST_FREQ = SAMPLING_FREQ/2\n",
    "MAX_TIME = EPOCH_DURATION - 1. / SAMPLING_FREQ  # tmax in included\n",
    "\n",
    "SUBJECT = [44]\n",
    "NIGHT = [1]\n",
    "FOLDER_NAME = f\"./data/subject{SUBJECT[0]}-night{NIGHT[0]}\""
   ]
  },
  {
   "cell_type": "code",
   "execution_count": 4,
   "metadata": {},
   "outputs": [
    {
     "data": {
      "text/html": [
       "<div>\n",
       "<style scoped>\n",
       "    .dataframe tbody tr th:only-of-type {\n",
       "        vertical-align: middle;\n",
       "    }\n",
       "\n",
       "    .dataframe tbody tr th {\n",
       "        vertical-align: top;\n",
       "    }\n",
       "\n",
       "    .dataframe thead th {\n",
       "        text-align: right;\n",
       "    }\n",
       "</style>\n",
       "<table border=\"1\" class=\"dataframe\">\n",
       "  <thead>\n",
       "    <tr style=\"text-align: right;\">\n",
       "      <th></th>\n",
       "      <th>subject</th>\n",
       "      <th>night</th>\n",
       "      <th>age</th>\n",
       "      <th>sex</th>\n",
       "      <th>LightsOff</th>\n",
       "      <th>NightDuration</th>\n",
       "      <th>LightsOffSecond</th>\n",
       "      <th>StartRecord</th>\n",
       "      <th>StartRecordTimestamp</th>\n",
       "    </tr>\n",
       "  </thead>\n",
       "  <tbody>\n",
       "    <tr>\n",
       "      <th>0</th>\n",
       "      <td>0</td>\n",
       "      <td>1</td>\n",
       "      <td>33</td>\n",
       "      <td>1</td>\n",
       "      <td>1989-04-25 00:38:00</td>\n",
       "      <td>21810.0</td>\n",
       "      <td>30300.0</td>\n",
       "      <td>1989-04-24 16:13:00</td>\n",
       "      <td>609437580.0</td>\n",
       "    </tr>\n",
       "    <tr>\n",
       "      <th>1</th>\n",
       "      <td>0</td>\n",
       "      <td>2</td>\n",
       "      <td>33</td>\n",
       "      <td>1</td>\n",
       "      <td>1989-04-25 21:57:00</td>\n",
       "      <td>30330.0</td>\n",
       "      <td>25620.0</td>\n",
       "      <td>1989-04-25 14:50:00</td>\n",
       "      <td>609519000.0</td>\n",
       "    </tr>\n",
       "  </tbody>\n",
       "</table>\n",
       "</div>"
      ],
      "text/plain": [
       "   subject  night  age  sex            LightsOff  NightDuration  \\\n",
       "0        0      1   33    1  1989-04-25 00:38:00        21810.0   \n",
       "1        0      2   33    1  1989-04-25 21:57:00        30330.0   \n",
       "\n",
       "   LightsOffSecond          StartRecord  StartRecordTimestamp  \n",
       "0          30300.0  1989-04-24 16:13:00           609437580.0  \n",
       "1          25620.0  1989-04-25 14:50:00           609519000.0  "
      ]
     },
     "execution_count": 4,
     "metadata": {},
     "output_type": "execute_result"
    }
   ],
   "source": [
    "df_records = pd.read_csv(\"data/recordings-info.csv\")\n",
    "df_records.head(2)"
   ]
  },
  {
   "cell_type": "markdown",
   "metadata": {},
   "source": [
    "## Extract data\n",
    "___"
   ]
  },
  {
   "cell_type": "code",
   "execution_count": 5,
   "metadata": {},
   "outputs": [],
   "source": [
    "def get_hypnogram_from_filenames(signal_filename, hypnogram_filename, is_electrophysiologist=False):\n",
    "\n",
    "    raw_data = mne.io.read_raw_edf(signal_filename, preload=False, stim_channel=None, verbose=False)\n",
    "    annot = mne.read_annotations(hypnogram_filename)\n",
    "    raw_data.set_annotations(annot, emit_warning=False)\n",
    "    \n",
    "    info = df_records[(df_records['subject'] == SUBJECT[0]) & (df_records['night'] == NIGHT[0])]\n",
    "    print(info)\n",
    "\n",
    "    # Number of seconds since file began\n",
    "    closed_lights_time = info['LightsOffSecond'].values[0]\n",
    "    woke_up_time = closed_lights_time + info['NightDuration'].values[0] + NB_EPOCHS_AWAKE_MORNING*EPOCH_DURATION\n",
    "\n",
    "    raw_data.crop(tmin=closed_lights_time, tmax=min(woke_up_time, raw_data.times[-1]))\n",
    "\n",
    "    events, annot_event_id = mne.events_from_annotations(\n",
    "        raw_data,\n",
    "        event_id=ELECTROPHYSIOLOGIST_SLEEP_STAGES if is_electrophysiologist else DATASET_SLEEP_STAGES_VALUES,\n",
    "        chunk_duration=EPOCH_DURATION,\n",
    "        verbose=False)\n",
    "\n",
    "    # Few files do not have N3 sleep (i.e. SC4202EC-Hypnogram), so we have to filter out key-value pairs that are not in the annotations.\n",
    "    event_id = { \n",
    "        event_key: SLEEP_STAGES_VALUES[event_key] \n",
    "        for event_key in SLEEP_STAGES_VALUES\n",
    "        if SLEEP_STAGES_VALUES[event_key] in annot_event_id.values()\n",
    "    }\n",
    "\n",
    "    epochs = mne.Epochs(\n",
    "        raw=raw_data,\n",
    "        events=events,\n",
    "        event_id=event_id,\n",
    "        tmin=0.,\n",
    "        tmax=MAX_TIME,\n",
    "        preload=True,\n",
    "        baseline=None,\n",
    "        verbose=False)\n",
    "\n",
    "    epochs.drop_channels([\n",
    "     'EOG horizontal',\n",
    "     'Resp oro-nasal',\n",
    "     'EMG submental',\n",
    "     'Temp rectal',\n",
    "     'Event marker'])\n",
    "\n",
    "    y = np.array([event[-1] for event in epochs.events])\n",
    "    \n",
    "    return y"
   ]
  },
  {
   "cell_type": "code",
   "execution_count": 6,
   "metadata": {},
   "outputs": [
    {
     "name": "stdout",
     "output_type": "stream",
     "text": [
      "Using default location ~/mne_data for PHYSIONET_SLEEP...\n",
      "[['/home/william/mne_data/physionet-sleep-data/SC4441E0-PSG.edf', '/home/william/mne_data/physionet-sleep-data/SC4441EC-Hypnogram.edf']]\n",
      "    subject  night  age  sex            LightsOff  NightDuration  \\\n",
      "84       44      1   74    1  1989-07-04 00:18:00        33840.0   \n",
      "\n",
      "    LightsOffSecond          StartRecord  StartRecordTimestamp  \n",
      "84          27480.0  1989-07-03 16:40:00           615487200.0  \n"
     ]
    }
   ],
   "source": [
    "file_names = fetch_data(subjects=SUBJECT, recording=NIGHT)\n",
    "print(file_names)\n",
    "\n",
    "y_physionet = get_hypnogram_from_filenames(file_names[0][0], file_names[0][1])"
   ]
  },
  {
   "cell_type": "code",
   "execution_count": 7,
   "metadata": {},
   "outputs": [
    {
     "ename": "FileNotFoundError",
     "evalue": "[Errno 2] No such file or directory: './data/subject44-night1/electrophysiologist_Hypnogram.edf'",
     "output_type": "error",
     "traceback": [
      "\u001b[0;31m---------------------------------------------------------------------------\u001b[0m",
      "\u001b[0;31mFileNotFoundError\u001b[0m                         Traceback (most recent call last)",
      "\u001b[0;32m<ipython-input-7-ec25f6799142>\u001b[0m in \u001b[0;36m<module>\u001b[0;34m\u001b[0m\n\u001b[0;32m----> 1\u001b[0;31m y_electrophysiologist = get_hypnogram_from_filenames(\n\u001b[0m\u001b[1;32m      2\u001b[0m     \u001b[0mfile_names\u001b[0m\u001b[0;34m[\u001b[0m\u001b[0;36m0\u001b[0m\u001b[0;34m]\u001b[0m\u001b[0;34m[\u001b[0m\u001b[0;36m0\u001b[0m\u001b[0;34m]\u001b[0m\u001b[0;34m,\u001b[0m\u001b[0;34m\u001b[0m\u001b[0;34m\u001b[0m\u001b[0m\n\u001b[1;32m      3\u001b[0m     \u001b[0;34mf\"{FOLDER_NAME}/electrophysiologist_Hypnogram.edf\"\u001b[0m\u001b[0;34m,\u001b[0m\u001b[0;34m\u001b[0m\u001b[0;34m\u001b[0m\u001b[0m\n\u001b[1;32m      4\u001b[0m     \u001b[0mis_electrophysiologist\u001b[0m\u001b[0;34m=\u001b[0m\u001b[0;32mTrue\u001b[0m\u001b[0;34m\u001b[0m\u001b[0;34m\u001b[0m\u001b[0m\n\u001b[1;32m      5\u001b[0m )\n",
      "\u001b[0;32m<ipython-input-5-ba8305e4df87>\u001b[0m in \u001b[0;36mget_hypnogram_from_filenames\u001b[0;34m(signal_filename, hypnogram_filename, is_electrophysiologist)\u001b[0m\n\u001b[1;32m      2\u001b[0m \u001b[0;34m\u001b[0m\u001b[0m\n\u001b[1;32m      3\u001b[0m     \u001b[0mraw_data\u001b[0m \u001b[0;34m=\u001b[0m \u001b[0mmne\u001b[0m\u001b[0;34m.\u001b[0m\u001b[0mio\u001b[0m\u001b[0;34m.\u001b[0m\u001b[0mread_raw_edf\u001b[0m\u001b[0;34m(\u001b[0m\u001b[0msignal_filename\u001b[0m\u001b[0;34m,\u001b[0m \u001b[0mpreload\u001b[0m\u001b[0;34m=\u001b[0m\u001b[0;32mFalse\u001b[0m\u001b[0;34m,\u001b[0m \u001b[0mstim_channel\u001b[0m\u001b[0;34m=\u001b[0m\u001b[0;32mNone\u001b[0m\u001b[0;34m,\u001b[0m \u001b[0mverbose\u001b[0m\u001b[0;34m=\u001b[0m\u001b[0;32mFalse\u001b[0m\u001b[0;34m)\u001b[0m\u001b[0;34m\u001b[0m\u001b[0;34m\u001b[0m\u001b[0m\n\u001b[0;32m----> 4\u001b[0;31m     \u001b[0mannot\u001b[0m \u001b[0;34m=\u001b[0m \u001b[0mmne\u001b[0m\u001b[0;34m.\u001b[0m\u001b[0mread_annotations\u001b[0m\u001b[0;34m(\u001b[0m\u001b[0mhypnogram_filename\u001b[0m\u001b[0;34m)\u001b[0m\u001b[0;34m\u001b[0m\u001b[0;34m\u001b[0m\u001b[0m\n\u001b[0m\u001b[1;32m      5\u001b[0m     \u001b[0mraw_data\u001b[0m\u001b[0;34m.\u001b[0m\u001b[0mset_annotations\u001b[0m\u001b[0;34m(\u001b[0m\u001b[0mannot\u001b[0m\u001b[0;34m,\u001b[0m \u001b[0memit_warning\u001b[0m\u001b[0;34m=\u001b[0m\u001b[0;32mFalse\u001b[0m\u001b[0;34m)\u001b[0m\u001b[0;34m\u001b[0m\u001b[0;34m\u001b[0m\u001b[0m\n\u001b[1;32m      6\u001b[0m \u001b[0;34m\u001b[0m\u001b[0m\n",
      "\u001b[0;32m~/Documents/PolyDossier/PolyCortex/polydodo/classification/.venv/lib/python3.8/site-packages/mne/annotations.py\u001b[0m in \u001b[0;36mread_annotations\u001b[0;34m(fname, sfreq, uint16_codec)\u001b[0m\n\u001b[1;32m    627\u001b[0m \u001b[0;34m\u001b[0m\u001b[0m\n\u001b[1;32m    628\u001b[0m     \u001b[0;32melif\u001b[0m \u001b[0mname\u001b[0m\u001b[0;34m.\u001b[0m\u001b[0mendswith\u001b[0m\u001b[0;34m(\u001b[0m\u001b[0;34m(\u001b[0m\u001b[0;34m'edf'\u001b[0m\u001b[0;34m,\u001b[0m \u001b[0;34m'bdf'\u001b[0m\u001b[0;34m,\u001b[0m \u001b[0;34m'gdf'\u001b[0m\u001b[0;34m)\u001b[0m\u001b[0;34m)\u001b[0m\u001b[0;34m:\u001b[0m\u001b[0;34m\u001b[0m\u001b[0;34m\u001b[0m\u001b[0m\n\u001b[0;32m--> 629\u001b[0;31m         \u001b[0monset\u001b[0m\u001b[0;34m,\u001b[0m \u001b[0mduration\u001b[0m\u001b[0;34m,\u001b[0m \u001b[0mdescription\u001b[0m \u001b[0;34m=\u001b[0m \u001b[0m_read_annotations_edf\u001b[0m\u001b[0;34m(\u001b[0m\u001b[0mfname\u001b[0m\u001b[0;34m)\u001b[0m\u001b[0;34m\u001b[0m\u001b[0;34m\u001b[0m\u001b[0m\n\u001b[0m\u001b[1;32m    630\u001b[0m         \u001b[0monset\u001b[0m \u001b[0;34m=\u001b[0m \u001b[0mnp\u001b[0m\u001b[0;34m.\u001b[0m\u001b[0marray\u001b[0m\u001b[0;34m(\u001b[0m\u001b[0monset\u001b[0m\u001b[0;34m,\u001b[0m \u001b[0mdtype\u001b[0m\u001b[0;34m=\u001b[0m\u001b[0mfloat\u001b[0m\u001b[0;34m)\u001b[0m\u001b[0;34m\u001b[0m\u001b[0;34m\u001b[0m\u001b[0m\n\u001b[1;32m    631\u001b[0m         \u001b[0mduration\u001b[0m \u001b[0;34m=\u001b[0m \u001b[0mnp\u001b[0m\u001b[0;34m.\u001b[0m\u001b[0marray\u001b[0m\u001b[0;34m(\u001b[0m\u001b[0mduration\u001b[0m\u001b[0;34m,\u001b[0m \u001b[0mdtype\u001b[0m\u001b[0;34m=\u001b[0m\u001b[0mfloat\u001b[0m\u001b[0;34m)\u001b[0m\u001b[0;34m\u001b[0m\u001b[0;34m\u001b[0m\u001b[0m\n",
      "\u001b[0;32m~/Documents/PolyDossier/PolyCortex/polydodo/classification/.venv/lib/python3.8/site-packages/mne/io/edf/edf.py\u001b[0m in \u001b[0;36m_read_annotations_edf\u001b[0;34m(annotations)\u001b[0m\n\u001b[1;32m   1333\u001b[0m     \u001b[0mpat\u001b[0m \u001b[0;34m=\u001b[0m \u001b[0;34m'([+-]\\\\d+\\\\.?\\\\d*)(\\x15(\\\\d+\\\\.?\\\\d*))?(\\x14.*?)\\x14\\x00'\u001b[0m\u001b[0;34m\u001b[0m\u001b[0;34m\u001b[0m\u001b[0m\n\u001b[1;32m   1334\u001b[0m     \u001b[0;32mif\u001b[0m \u001b[0misinstance\u001b[0m\u001b[0;34m(\u001b[0m\u001b[0mannotations\u001b[0m\u001b[0;34m,\u001b[0m \u001b[0mstr\u001b[0m\u001b[0;34m)\u001b[0m\u001b[0;34m:\u001b[0m\u001b[0;34m\u001b[0m\u001b[0;34m\u001b[0m\u001b[0m\n\u001b[0;32m-> 1335\u001b[0;31m         \u001b[0;32mwith\u001b[0m \u001b[0mopen\u001b[0m\u001b[0;34m(\u001b[0m\u001b[0mannotations\u001b[0m\u001b[0;34m,\u001b[0m \u001b[0mencoding\u001b[0m\u001b[0;34m=\u001b[0m\u001b[0;34m'latin-1'\u001b[0m\u001b[0;34m)\u001b[0m \u001b[0;32mas\u001b[0m \u001b[0mannot_file\u001b[0m\u001b[0;34m:\u001b[0m\u001b[0;34m\u001b[0m\u001b[0;34m\u001b[0m\u001b[0m\n\u001b[0m\u001b[1;32m   1336\u001b[0m             \u001b[0mtriggers\u001b[0m \u001b[0;34m=\u001b[0m \u001b[0mre\u001b[0m\u001b[0;34m.\u001b[0m\u001b[0mfindall\u001b[0m\u001b[0;34m(\u001b[0m\u001b[0mpat\u001b[0m\u001b[0;34m,\u001b[0m \u001b[0mannot_file\u001b[0m\u001b[0;34m.\u001b[0m\u001b[0mread\u001b[0m\u001b[0;34m(\u001b[0m\u001b[0;34m)\u001b[0m\u001b[0;34m)\u001b[0m\u001b[0;34m\u001b[0m\u001b[0;34m\u001b[0m\u001b[0m\n\u001b[1;32m   1337\u001b[0m     \u001b[0;32melse\u001b[0m\u001b[0;34m:\u001b[0m\u001b[0;34m\u001b[0m\u001b[0;34m\u001b[0m\u001b[0m\n",
      "\u001b[0;31mFileNotFoundError\u001b[0m: [Errno 2] No such file or directory: './data/subject44-night1/electrophysiologist_Hypnogram.edf'"
     ]
    }
   ],
   "source": [
    "y_electrophysiologist = get_hypnogram_from_filenames(\n",
    "    file_names[0][0],\n",
    "    f\"{FOLDER_NAME}/electrophysiologist_Hypnogram.edf\",\n",
    "    is_electrophysiologist=True\n",
    ")"
   ]
  },
  {
   "cell_type": "code",
   "execution_count": null,
   "metadata": {},
   "outputs": [],
   "source": [
    "plt.rcParams[\"figure.figsize\"] = (20,5)\n",
    "print_hypnogram(\n",
    "    [y_physionet, y_electrophysiologist],\n",
    "    labels=['physionet', 'electrophysiologist'],\n",
    "    subject=44,\n",
    "    night=1\n",
    ")"
   ]
  },
  {
   "cell_type": "code",
   "execution_count": null,
   "metadata": {},
   "outputs": [],
   "source": [
    "print(\"Matrice de confusion: \\n\", confusion_matrix(y_physionet, y_electrophysiologist))\n",
    "\n",
    "print(\"\\n\\n\", classification_report(y_physionet, y_electrophysiologist, target_names=SLEEP_STAGES_VALUES.keys()))\n",
    "\n",
    "print(\"Agreement score (Cohen Kappa): \", cohen_kappa_score(y_physionet, y_electrophysiologist))"
   ]
  }
 ],
 "metadata": {
  "kernelspec": {
   "display_name": "Python 3",
   "language": "python",
   "name": "python3"
  },
  "language_info": {
   "codemirror_mode": {
    "name": "ipython",
    "version": 3
   },
   "file_extension": ".py",
   "mimetype": "text/x-python",
   "name": "python",
   "nbconvert_exporter": "python",
   "pygments_lexer": "ipython3",
   "version": "3.8.2"
  }
 },
 "nbformat": 4,
 "nbformat_minor": 4
}
